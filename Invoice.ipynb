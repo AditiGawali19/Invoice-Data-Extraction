{
 "cells": [
  {
   "cell_type": "code",
   "execution_count": 3,
   "id": "4396bcc0-8730-43b1-a50c-dffb71fcf70b",
   "metadata": {},
   "outputs": [],
   "source": [
    "invoice_folder = r\"C:\\Users\\91808\\Desktop\\Task2\\Input\" \n"
   ]
  },
  {
   "cell_type": "code",
   "execution_count": 8,
   "id": "e1c81bfb-3b58-4571-a57b-a38581a0bbd5",
   "metadata": {},
   "outputs": [],
   "source": [
    "pdf_path=r\"C:\\Users\\91808\\Desktop\\Task2\\Input\""
   ]
  },
  {
   "cell_type": "code",
   "execution_count": 10,
   "id": "eaa6b1be-b71d-4e46-9550-2a63b06edca3",
   "metadata": {},
   "outputs": [
    {
     "name": "stdout",
     "output_type": "stream",
     "text": [
      "Requirement already satisfied: pytesseract in c:\\users\\91808\\appdata\\local\\programs\\python\\python311\\lib\\site-packages (0.3.10)\n",
      "Requirement already satisfied: opencv-python in c:\\users\\91808\\appdata\\local\\programs\\python\\python311\\lib\\site-packages (4.8.1.78)\n",
      "Requirement already satisfied: packaging>=21.3 in c:\\users\\91808\\appdata\\local\\programs\\python\\python311\\lib\\site-packages (from pytesseract) (23.1)\n",
      "Requirement already satisfied: Pillow>=8.0.0 in c:\\users\\91808\\appdata\\local\\programs\\python\\python311\\lib\\site-packages (from pytesseract) (10.1.0)\n",
      "Requirement already satisfied: numpy>=1.21.2 in c:\\users\\91808\\appdata\\local\\programs\\python\\python311\\lib\\site-packages (from opencv-python) (1.26.2)\n",
      "Note: you may need to restart the kernel to use updated packages.\n"
     ]
    },
    {
     "name": "stderr",
     "output_type": "stream",
     "text": [
      "\n",
      "[notice] A new release of pip is available: 23.2.1 -> 24.2\n",
      "[notice] To update, run: python.exe -m pip install --upgrade pip\n"
     ]
    }
   ],
   "source": [
    "pip install pytesseract opencv-python\n"
   ]
  },
  {
   "cell_type": "code",
   "execution_count": 13,
   "id": "f356100e-d77c-4029-ab16-24bc70e7816f",
   "metadata": {},
   "outputs": [],
   "source": [
    "pytesseract.pytesseract.tesseract_cmd = r\"C:\\Users\\91808\\Downloads\\tesseract-ocr-w64-setup-5.3.3.20231005 (1).exe\"\n"
   ]
  },
  {
   "cell_type": "code",
   "execution_count": 16,
   "id": "03f77839-1883-402e-afdf-0c9992dca9ee",
   "metadata": {},
   "outputs": [
    {
     "name": "stdout",
     "output_type": "stream",
     "text": [
      "5.3.3.20231005\n"
     ]
    }
   ],
   "source": [
    "import pytesseract\n",
    "\n",
    "# Update this path if necessary (based on your Tesseract installation location)\n",
    "pytesseract.pytesseract.tesseract_cmd = r\"C:\\Program Files\\Tesseract-OCR\\tesseract.exe\"\n",
    "\n",
    "print(pytesseract.get_tesseract_version())  # This should print the Tesseract version\n"
   ]
  },
  {
   "cell_type": "code",
   "execution_count": 17,
   "id": "7b27a831-eda5-46a4-8ac2-a9800269acf5",
   "metadata": {},
   "outputs": [],
   "source": [
    "image_folder = r\"C:\\Users\\91808\\Desktop\\Task2\\Input Images\"\n"
   ]
  },
  {
   "cell_type": "code",
   "execution_count": 18,
   "id": "37648c27-eeb1-4636-badd-35752995c479",
   "metadata": {},
   "outputs": [
    {
     "name": "stdout",
     "output_type": "stream",
     "text": [
      "Extracting data from C:\\Users\\91808\\Desktop\\Task2\\Input Images\\1_highlighted_page_1.png...\n",
      "Extracting data from C:\\Users\\91808\\Desktop\\Task2\\Input Images\\2_highlighted_page_1.png...\n",
      "Extracting data from C:\\Users\\91808\\Desktop\\Task2\\Input Images\\3_highlighted_page_1.png...\n",
      "Extracting data from C:\\Users\\91808\\Desktop\\Task2\\Input Images\\4_highlighted_page_1.png...\n",
      "Extracting data from C:\\Users\\91808\\Desktop\\Task2\\Input Images\\5_highlighted_page_1.png...\n",
      "Extracting data from C:\\Users\\91808\\Desktop\\Task2\\Input Images\\6_highlighted_page_1.png...\n",
      "Extracting data from C:\\Users\\91808\\Desktop\\Task2\\Input Images\\7_highlighted_page_1.png...\n",
      "Extracting data from C:\\Users\\91808\\Desktop\\Task2\\Input Images\\8_highlighted_page_1.png...\n",
      "Data extracted and saved to C:\\Users\\91808\\Desktop\\Task2\\Input Images\\extracted_invoices_data.json.\n"
     ]
    }
   ],
   "source": [
    "import pytesseract\n",
    "import cv2\n",
    "import os\n",
    "import re\n",
    "import json\n",
    "\n",
    "# Set the path to Tesseract executable\n",
    "pytesseract.pytesseract.tesseract_cmd = r\"C:\\Program Files\\Tesseract-OCR\\tesseract.exe\"\n",
    "\n",
    "# Function to extract invoice data using pytesseract\n",
    "def extract_invoice_data(image_path):\n",
    "    img = cv2.imread(image_path)\n",
    "\n",
    "    # Perform OCR on the image\n",
    "    text = pytesseract.image_to_string(img)\n",
    "\n",
    "    # Define patterns for extracting fields\n",
    "    patterns = {\n",
    "        \"invoice_number\": r\"Invoice Number[:\\s]*([\\w\\-]+)\",\n",
    "        \"invoice_date\": r\"Invoice Date[:\\s]*(\\d{1,2}/\\d{1,2}/\\d{2,4})\",\n",
    "        \"description\": r\"Description[:\\s]*(.+)\",\n",
    "        \"quantity\": r\"Quantity[:\\s]*(\\d+)\",\n",
    "        \"unit_price\": r\"Unit Price[:\\s]*\\$(\\d+\\.\\d{2})\",\n",
    "        \"total\": r\"Total[:\\s]*\\$(\\d+\\.\\d{2})\",\n",
    "        \"due_date\": r\"Due Date[:\\s]*(\\d{1,2}/\\d{1,2}/\\d{2,4})\",\n",
    "        \"paid_by\": r\"Paid By[:\\s]*(.+)\",\n",
    "        \"order_id\": r\"Order ID[:\\s]*([\\w\\-]+)\",\n",
    "        \"sales_tax\": r\"Sales Tax[:\\s]*\\$(\\d+\\.\\d{2})\",\n",
    "        \"insurance\": r\"Insurance[:\\s]*\\$(\\d+\\.\\d{2})\",\n",
    "        \"shipping_charges\": r\"Shipping Charges[:\\s]*\\$(\\d+\\.\\d{2})\",\n",
    "        \"sub_total\": r\"Subtotal[:\\s]*\\$(\\d+\\.\\d{2})\",\n",
    "        \"amount\": r\"Amount[:\\s]*\\$(\\d+\\.\\d{2})\",\n",
    "        \"salesperson\": r\"Salesperson[:\\s]*(.+)\",\n",
    "        \"job\": r\"Job[:\\s]*(.+)\",\n",
    "        \"shipping_method\": r\"Shipping Method[:\\s]*(.+)\",\n",
    "        \"shipping_terms\": r\"Shipping Terms[:\\s]*(.+)\",\n",
    "        \"delivery_date\": r\"Delivery Date[:\\s]*(\\d{1,2}/\\d{1,2}/\\d{2,4})\",\n",
    "        \"payment_terms\": r\"Payment Terms[:\\s]*(.+)\",\n",
    "        \"line_total\": r\"Line Total[:\\s]*\\$(\\d+\\.\\d{2})\"\n",
    "    }\n",
    "\n",
    "    # Extract data using regex\n",
    "    extracted_data = {}\n",
    "    for field, pattern in patterns.items():\n",
    "        match = re.search(pattern, text)\n",
    "        extracted_data[field] = match.group(1) if match else None\n",
    "\n",
    "    return extracted_data\n",
    "\n",
    "# Function to process all images in a folder and extract invoice data\n",
    "def process_invoices(image_folder):\n",
    "    all_invoices_data = {}\n",
    "\n",
    "    for filename in os.listdir(image_folder):\n",
    "        if filename.endswith(\".png\"):  # Process only .png images\n",
    "            image_path = os.path.join(image_folder, filename)\n",
    "            print(f'Extracting data from {image_path}...')\n",
    "            invoice_data = extract_invoice_data(image_path)\n",
    "            all_invoices_data[filename] = invoice_data\n",
    "\n",
    "    return all_invoices_data\n",
    "\n",
    "# Example usage\n",
    "image_folder = r\"C:\\Users\\91808\\Desktop\\Task2\\Input Images\"  # Update this path\n",
    "invoices_data = process_invoices(image_folder)\n",
    "\n",
    "# Save the extracted data to a JSON file\n",
    "output_json_path = os.path.join(image_folder, 'extracted_invoices_data.json')\n",
    "with open(output_json_path, 'w') as json_file:\n",
    "    json.dump(invoices_data, json_file, indent=4)\n",
    "\n",
    "print(f'Data extracted and saved to {output_json_path}.')\n"
   ]
  },
  {
   "cell_type": "code",
   "execution_count": null,
   "id": "3cdb2574-f80b-42be-9873-b001583b4a4a",
   "metadata": {},
   "outputs": [],
   "source": []
  }
 ],
 "metadata": {
  "kernelspec": {
   "display_name": "Python 3 (ipykernel)",
   "language": "python",
   "name": "python3"
  },
  "language_info": {
   "codemirror_mode": {
    "name": "ipython",
    "version": 3
   },
   "file_extension": ".py",
   "mimetype": "text/x-python",
   "name": "python",
   "nbconvert_exporter": "python",
   "pygments_lexer": "ipython3",
   "version": "3.11.5"
  }
 },
 "nbformat": 4,
 "nbformat_minor": 5
}
