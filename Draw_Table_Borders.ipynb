{
 "cells": [
  {
   "cell_type": "code",
   "execution_count": 1,
   "id": "c02471d8-05d1-4138-9b22-f8ecbdc168d3",
   "metadata": {},
   "outputs": [
    {
     "name": "stdout",
     "output_type": "stream",
     "text": [
      "Highlighting sections in C:\\Users\\91808\\Desktop\\Task2\\Input Images\\1.png...\n",
      "Highlighted image saved to C:\\Users\\91808\\Desktop\\Task2\\Highlighted\\1.png\n",
      "Highlighting sections in C:\\Users\\91808\\Desktop\\Task2\\Input Images\\2.png...\n",
      "Highlighted image saved to C:\\Users\\91808\\Desktop\\Task2\\Highlighted\\2.png\n",
      "Highlighting sections in C:\\Users\\91808\\Desktop\\Task2\\Input Images\\3.png...\n",
      "Highlighted image saved to C:\\Users\\91808\\Desktop\\Task2\\Highlighted\\3.png\n",
      "Highlighting sections in C:\\Users\\91808\\Desktop\\Task2\\Input Images\\4.png...\n",
      "Highlighted image saved to C:\\Users\\91808\\Desktop\\Task2\\Highlighted\\4.png\n",
      "Highlighting sections in C:\\Users\\91808\\Desktop\\Task2\\Input Images\\5.png...\n",
      "Highlighted image saved to C:\\Users\\91808\\Desktop\\Task2\\Highlighted\\5.png\n",
      "Highlighting sections in C:\\Users\\91808\\Desktop\\Task2\\Input Images\\6.png...\n",
      "Highlighted image saved to C:\\Users\\91808\\Desktop\\Task2\\Highlighted\\6.png\n",
      "Highlighting sections in C:\\Users\\91808\\Desktop\\Task2\\Input Images\\7.png...\n",
      "Highlighted image saved to C:\\Users\\91808\\Desktop\\Task2\\Highlighted\\7.png\n",
      "Highlighting sections in C:\\Users\\91808\\Desktop\\Task2\\Input Images\\8.png...\n",
      "Highlighted image saved to C:\\Users\\91808\\Desktop\\Task2\\Highlighted\\8.png\n"
     ]
    }
   ],
   "source": [
    "import cv2\n",
    "import os\n",
    "\n",
    "\n",
    "def highlight_sections_in_image(image_path, output_path):\n",
    "    \n",
    "    img = cv2.imread(image_path)\n",
    "    if img is None:\n",
    "        print(f\"Could not open or find the image {image_path}.\")\n",
    "        return\n",
    "    \n",
    "   \n",
    "    color_invoice_info = (255, 0, 0)  \n",
    "    color_purchase_info = (0, 255, 0)  \n",
    "    color_total_info = (0, 0, 255)     \n",
    "    \n",
    "    \n",
    "    height, width = img.shape[:2]\n",
    "    \n",
    "    \n",
    "    invoice_box_top_right = (width - 250, 20, width - 30, 100)  \n",
    "    cv2.rectangle(img, (invoice_box_top_right[0], invoice_box_top_right[1]), \n",
    "                  (invoice_box_top_right[2], invoice_box_top_right[3]), color_invoice_info, 2)\n",
    "\n",
    "   \n",
    "    purchase_box_middle = (50, 120, width - 50, height - 200) \n",
    "    cv2.rectangle(img, (purchase_box_middle[0], purchase_box_middle[1]), \n",
    "                  (purchase_box_middle[2], purchase_box_middle[3]), color_purchase_info, 2)\n",
    "\n",
    "    \n",
    "    total_box_bottom_right = (width - 250, height - 200, width - 30, height - 120)  \n",
    "    cv2.rectangle(img, (total_box_bottom_right[0], total_box_bottom_right[1]), \n",
    "                  (total_box_bottom_right[2], total_box_bottom_right[3]), color_total_info, 2)\n",
    "\n",
    "    \n",
    "    cv2.imwrite(output_path, img)\n",
    "    print(f\"Highlighted image saved to {output_path}\")\n",
    "\n",
    "\n",
    "def process_and_highlight_sections(image_folder, highlighted_folder):\n",
    "    \n",
    "    if not os.path.exists(highlighted_folder):\n",
    "        os.makedirs(highlighted_folder)\n",
    "    \n",
    "    \n",
    "    for filename in os.listdir(image_folder):\n",
    "        if filename.lower().endswith((\".png\", \".jpg\", \".jpeg\")):  \n",
    "            image_path = os.path.join(image_folder, filename)\n",
    "            output_path = os.path.join(highlighted_folder, filename)\n",
    "            \n",
    "            print(f\"Highlighting sections in {image_path}...\")\n",
    "            highlight_sections_in_image(image_path, output_path)\n",
    "\n",
    "\n",
    "if __name__ == \"__main__\":\n",
    "    image_folder = r\"C:\\Users\\91808\\Desktop\\Task2\\Input Images\"  \n",
    "    highlighted_folder = r\"C:\\Users\\91808\\Desktop\\Task2\\Highlighted\"  \n",
    "\n",
    "    process_and_highlight_sections(image_folder, highlighted_folder)\n"
   ]
  },
  {
   "cell_type": "code",
   "execution_count": null,
   "id": "290ce26a-18e1-46bd-8893-c71e7805e7ee",
   "metadata": {},
   "outputs": [],
   "source": []
  }
 ],
 "metadata": {
  "kernelspec": {
   "display_name": "Python 3 (ipykernel)",
   "language": "python",
   "name": "python3"
  },
  "language_info": {
   "codemirror_mode": {
    "name": "ipython",
    "version": 3
   },
   "file_extension": ".py",
   "mimetype": "text/x-python",
   "name": "python",
   "nbconvert_exporter": "python",
   "pygments_lexer": "ipython3",
   "version": "3.11.5"
  }
 },
 "nbformat": 4,
 "nbformat_minor": 5
}
