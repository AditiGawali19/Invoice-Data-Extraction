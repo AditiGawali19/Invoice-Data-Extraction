{
 "cells": [
  {
   "cell_type": "code",
   "execution_count": 27,
   "id": "b8d0c264-ed8f-4e19-b594-2eb172b42da2",
   "metadata": {},
   "outputs": [
    {
     "name": "stdout",
     "output_type": "stream",
     "text": [
      "Highlighting sections in C:\\Users\\91808\\Desktop\\Task2\\Input Images\\1_highlighted_page_1.png...\n",
      "Highlighted image saved to C:\\Users\\91808\\Desktop\\Task2\\Highlighted\\1_highlighted_page_1.png\n",
      "Highlighting sections in C:\\Users\\91808\\Desktop\\Task2\\Input Images\\2_highlighted_page_1.png...\n",
      "Highlighted image saved to C:\\Users\\91808\\Desktop\\Task2\\Highlighted\\2_highlighted_page_1.png\n",
      "Highlighting sections in C:\\Users\\91808\\Desktop\\Task2\\Input Images\\3_highlighted_page_1.png...\n",
      "Highlighted image saved to C:\\Users\\91808\\Desktop\\Task2\\Highlighted\\3_highlighted_page_1.png\n",
      "Highlighting sections in C:\\Users\\91808\\Desktop\\Task2\\Input Images\\4_highlighted_page_1.png...\n",
      "Highlighted image saved to C:\\Users\\91808\\Desktop\\Task2\\Highlighted\\4_highlighted_page_1.png\n",
      "Highlighting sections in C:\\Users\\91808\\Desktop\\Task2\\Input Images\\5_highlighted_page_1.png...\n",
      "Highlighted image saved to C:\\Users\\91808\\Desktop\\Task2\\Highlighted\\5_highlighted_page_1.png\n",
      "Highlighting sections in C:\\Users\\91808\\Desktop\\Task2\\Input Images\\6_highlighted_page_1.png...\n",
      "Highlighted image saved to C:\\Users\\91808\\Desktop\\Task2\\Highlighted\\6_highlighted_page_1.png\n",
      "Highlighting sections in C:\\Users\\91808\\Desktop\\Task2\\Input Images\\7_highlighted_page_1.png...\n",
      "Highlighted image saved to C:\\Users\\91808\\Desktop\\Task2\\Highlighted\\7_highlighted_page_1.png\n",
      "Highlighting sections in C:\\Users\\91808\\Desktop\\Task2\\Input Images\\8_highlighted_page_1.png...\n",
      "Highlighted image saved to C:\\Users\\91808\\Desktop\\Task2\\Highlighted\\8_highlighted_page_1.png\n"
     ]
    }
   ],
   "source": [
    "import cv2\n",
    "import os\n",
    "\n",
    "# Function to highlight specific areas in the image\n",
    "def highlight_sections_in_image(image_path, output_path):\n",
    "    # Read the image\n",
    "    img = cv2.imread(image_path)\n",
    "    if img is None:\n",
    "        print(f\"Could not open or find the image {image_path}.\")\n",
    "        return\n",
    "    \n",
    "    # Define colors for the boxes (BGR format)\n",
    "    color_invoice_info = (255, 0, 0)  # Blue for invoice info\n",
    "    color_purchase_info = (0, 255, 0)  # Green for purchase info\n",
    "    color_total_info = (0, 0, 255)     # Red for total info\n",
    "    \n",
    "    # Get image dimensions\n",
    "    height, width = img.shape[:2]\n",
    "    \n",
    "    # Draw a box for invoice information in the top right corner\n",
    "    invoice_box_top_right = (width - 250, 20, width - 30, 100)  # (x1, y1, x2, y2)\n",
    "    cv2.rectangle(img, (invoice_box_top_right[0], invoice_box_top_right[1]), \n",
    "                  (invoice_box_top_right[2], invoice_box_top_right[3]), color_invoice_info, 2)\n",
    "\n",
    "    # Draw a rectangle for purchase information in the middle\n",
    "    purchase_box_middle = (50, 120, width - 50, height - 200)  # (x1, y1, x2, y2)\n",
    "    cv2.rectangle(img, (purchase_box_middle[0], purchase_box_middle[1]), \n",
    "                  (purchase_box_middle[2], purchase_box_middle[3]), color_purchase_info, 2)\n",
    "\n",
    "    # Draw a box for total information at the bottom right\n",
    "    total_box_bottom_right = (width - 250, height - 200, width - 30, height - 120)  # (x1, y1, x2, y2)\n",
    "    cv2.rectangle(img, (total_box_bottom_right[0], total_box_bottom_right[1]), \n",
    "                  (total_box_bottom_right[2], total_box_bottom_right[3]), color_total_info, 2)\n",
    "\n",
    "    # Save the image with highlighted sections to the output path\n",
    "    cv2.imwrite(output_path, img)\n",
    "    print(f\"Highlighted image saved to {output_path}\")\n",
    "\n",
    "# Function to process all images in the \"Input Images\" folder and save to \"Highlighted\" folder\n",
    "def process_and_highlight_sections(image_folder, highlighted_folder):\n",
    "    # Create the output folder if it doesn't exist\n",
    "    if not os.path.exists(highlighted_folder):\n",
    "        os.makedirs(highlighted_folder)\n",
    "    \n",
    "    # Iterate over all files in the image folder\n",
    "    for filename in os.listdir(image_folder):\n",
    "        if filename.lower().endswith((\".png\", \".jpg\", \".jpeg\")):  # Handle multiple image formats\n",
    "            image_path = os.path.join(image_folder, filename)\n",
    "            output_path = os.path.join(highlighted_folder, filename)\n",
    "            \n",
    "            print(f\"Highlighting sections in {image_path}...\")\n",
    "            highlight_sections_in_image(image_path, output_path)\n",
    "\n",
    "# Example usage\n",
    "if __name__ == \"__main__\":\n",
    "    image_folder = r\"C:\\Users\\91808\\Desktop\\Task2\\Input Images\"  # Path to your input images folder\n",
    "    highlighted_folder = r\"C:\\Users\\91808\\Desktop\\Task2\\Highlighted\"  # Path to save the highlighted images\n",
    "\n",
    "    process_and_highlight_sections(image_folder, highlighted_folder)\n"
   ]
  },
  {
   "cell_type": "code",
   "execution_count": null,
   "id": "c02471d8-05d1-4138-9b22-f8ecbdc168d3",
   "metadata": {},
   "outputs": [],
   "source": []
  }
 ],
 "metadata": {
  "kernelspec": {
   "display_name": "Python 3 (ipykernel)",
   "language": "python",
   "name": "python3"
  },
  "language_info": {
   "codemirror_mode": {
    "name": "ipython",
    "version": 3
   },
   "file_extension": ".py",
   "mimetype": "text/x-python",
   "name": "python",
   "nbconvert_exporter": "python",
   "pygments_lexer": "ipython3",
   "version": "3.11.5"
  }
 },
 "nbformat": 4,
 "nbformat_minor": 5
}
