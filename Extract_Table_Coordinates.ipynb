{
 "cells": [
  {
   "cell_type": "code",
   "execution_count": 1,
   "id": "cf6333fa-786f-4a2f-a712-76a552967592",
   "metadata": {},
   "outputs": [
    {
     "name": "stdout",
     "output_type": "stream",
     "text": [
      "Extracting tables from C:/Users/91808/Desktop/Task2/Input\\1.pdf...\n",
      "Extracting tables from C:/Users/91808/Desktop/Task2/Input\\2.pdf...\n",
      "Extracting tables from C:/Users/91808/Desktop/Task2/Input\\3.pdf...\n",
      "Extracting tables from C:/Users/91808/Desktop/Task2/Input\\4.pdf...\n",
      "Extracting tables from C:/Users/91808/Desktop/Task2/Input\\5.pdf...\n",
      "Extracting tables from C:/Users/91808/Desktop/Task2/Input\\6.pdf...\n",
      "Extracting tables from C:/Users/91808/Desktop/Task2/Input\\7.pdf...\n",
      "Extracting tables from C:/Users/91808/Desktop/Task2/Input\\8.pdf...\n",
      "Table coordinates extracted and saved to C:/Users/91808/Desktop/Task2/Input\\table_coordinates.json.\n"
     ]
    }
   ],
   "source": [
    "import pdfplumber\n",
    "import json\n",
    "import os\n",
    "\n",
    "def extract_table_coordinates(pdf_path):\n",
    "    \"\"\"Extracts table coordinates from a PDF file.\"\"\"\n",
    "    tables_info = []\n",
    "\n",
    "    with pdfplumber.open(pdf_path) as pdf:\n",
    "        for page in pdf.pages:\n",
    "            tables = page.extract_tables()\n",
    "            for table in tables:\n",
    "                # Get table boundaries\n",
    "                x1, y1, x2, y2 = page.bbox\n",
    "                rows = len(table)\n",
    "                columns = len(table[0]) if rows > 0 else 0\n",
    "\n",
    "                # Append the table information\n",
    "                tables_info.append({\n",
    "                    \"coordinates\": {\n",
    "                        \"x1\": x1,\n",
    "                        \"y1\": y1,\n",
    "                        \"x2\": x2,\n",
    "                        \"y2\": y2\n",
    "                    },\n",
    "                    \"rows\": rows,\n",
    "                    \"columns\": columns\n",
    "                })\n",
    "    return tables_info\n",
    "\n",
    "def process_invoices(folder_path):\n",
    "    \"\"\"Processes all PDF invoices in the given folder.\"\"\"\n",
    "    all_tables = {}\n",
    "    for pdf_file in os.listdir(folder_path):\n",
    "        if pdf_file.endswith('.pdf'):\n",
    "            pdf_path = os.path.join(folder_path, pdf_file)\n",
    "            print(f\"Extracting tables from {pdf_path}...\")\n",
    "            tables = extract_table_coordinates(pdf_path)\n",
    "            all_tables[pdf_file] = tables\n",
    "    \n",
    "    return all_tables\n",
    "\n",
    "# Specify the path to your input folder containing PDF files\n",
    "input_folder_path = 'C:/Users/91808/Desktop/Task2/Input'  # Update with your path\n",
    "\n",
    "# Process all invoices and save the output\n",
    "tables_data = process_invoices(input_folder_path)\n",
    "\n",
    "# Save extracted table coordinates to a JSON file\n",
    "output_json_path = os.path.join(input_folder_path, 'table_coordinates.json')\n",
    "with open(output_json_path, 'w') as json_file:\n",
    "    json.dump(tables_data, json_file, indent=4)\n",
    "\n",
    "print(f\"Table coordinates extracted and saved to {output_json_path}.\")\n"
   ]
  },
  {
   "cell_type": "code",
   "execution_count": 6,
   "id": "13d70345-6ab0-47e6-9568-e8685e9a23ec",
   "metadata": {},
   "outputs": [],
   "source": [
    "invoice_folder=r\"C:\\Users\\91808\\Desktop\\Task2\\Input\""
   ]
  },
  {
   "cell_type": "code",
   "execution_count": null,
   "id": "3ef36b76-9780-4b8d-ae17-09f68b8eb24c",
   "metadata": {},
   "outputs": [],
   "source": []
  }
 ],
 "metadata": {
  "kernelspec": {
   "display_name": "Python 3 (ipykernel)",
   "language": "python",
   "name": "python3"
  },
  "language_info": {
   "codemirror_mode": {
    "name": "ipython",
    "version": 3
   },
   "file_extension": ".py",
   "mimetype": "text/x-python",
   "name": "python",
   "nbconvert_exporter": "python",
   "pygments_lexer": "ipython3",
   "version": "3.11.5"
  }
 },
 "nbformat": 4,
 "nbformat_minor": 5
}
